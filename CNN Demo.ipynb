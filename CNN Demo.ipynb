{
 "cells": [
  {
   "cell_type": "code",
   "execution_count": 32,
   "metadata": {},
   "outputs": [],
   "source": [
    "import keras\n",
    "import numpy as np\n",
    "import matplotlib.pyplot as plt"
   ]
  },
  {
   "cell_type": "code",
   "execution_count": 33,
   "metadata": {},
   "outputs": [],
   "source": [
    "from keras.preprocessing.image import ImageDataGenerator"
   ]
  },
  {
   "cell_type": "code",
   "execution_count": 34,
   "metadata": {},
   "outputs": [],
   "source": [
    "datagen = ImageDataGenerator(rotation_range=40, width_shift_range=0.2, height_shift_range=0.2, horizontal_flip=True, \n",
    "                             zoom_range=0.2, rescale=1./255.)"
   ]
  },
  {
   "cell_type": "code",
   "execution_count": 35,
   "metadata": {},
   "outputs": [
    {
     "data": {
      "text/plain": [
       "tensorflow.python.keras.preprocessing.image.ImageDataGenerator"
      ]
     },
     "execution_count": 35,
     "metadata": {},
     "output_type": "execute_result"
    }
   ],
   "source": [
    "type(datagen)"
   ]
  },
  {
   "cell_type": "code",
   "execution_count": null,
   "metadata": {},
   "outputs": [],
   "source": []
  },
  {
   "cell_type": "code",
   "execution_count": 36,
   "metadata": {},
   "outputs": [],
   "source": [
    "from keras.models import Sequential\n",
    "from keras.layers import Conv2D, MaxPool2D, Flatten, Dense, Activation\n",
    "from keras.activations import relu, softmax\n",
    "from keras.losses import categorical_crossentropy\n",
    "from keras.optimizers import SGD, RMSprop\n",
    "#from keras.callbacks import Callback\n",
    "from keras.callbacks import TensorBoard"
   ]
  },
  {
   "cell_type": "code",
   "execution_count": 37,
   "metadata": {},
   "outputs": [],
   "source": [
    "model = Sequential()\n",
    "\n",
    "#Single chunk of convulation Conv, act, Pooling\n",
    "model.add(Conv2D(32, (3,3), input_shape=(150, 150, 3), activation=\"relu\"))\n",
    "model.add(MaxPool2D(pool_size=(2,2)))\n",
    "\n",
    "model.add(Conv2D(32, (3,3), activation=\"relu\"))\n",
    "model.add(MaxPool2D(pool_size=(2,2)))\n",
    "\n",
    "model.add(Conv2D(64, (3,3), activation=\"relu\"))\n",
    "model.add(MaxPool2D(pool_size=(2,2)))\n",
    "\n",
    "model.add(Flatten())\n",
    "model.add(Dense(1024, activation=\"relu\"))\n",
    "model.add(Dense(512, activation=\"relu\"))\n",
    "model.add(Dense(2, activation=\"softmax\"))"
   ]
  },
  {
   "cell_type": "code",
   "execution_count": 38,
   "metadata": {},
   "outputs": [],
   "source": [
    "model.compile(loss=categorical_crossentropy, optimizer=SGD(), metrics=[\"acc\"])"
   ]
  },
  {
   "cell_type": "code",
   "execution_count": 39,
   "metadata": {},
   "outputs": [
    {
     "name": "stdout",
     "output_type": "stream",
     "text": [
      "Found 400 images belonging to 2 classes.\n"
     ]
    }
   ],
   "source": [
    "train_gen = datagen.flow_from_directory(r\"C:\\Users\\Siyavar\\Downloads\\dogs-vs-cats\\train\\Training_Data\",\n",
    "                                        target_size=(150, 150), batch_size=128)"
   ]
  },
  {
   "cell_type": "code",
   "execution_count": 40,
   "metadata": {},
   "outputs": [],
   "source": [
    "tb = TensorBoard(log_dir=\".\")"
   ]
  },
  {
   "cell_type": "code",
   "execution_count": 41,
   "metadata": {},
   "outputs": [
    {
     "name": "stdout",
     "output_type": "stream",
     "text": [
      "Epoch 1/15\n",
      "4/4 [==============================] - 4s 950ms/step - loss: 0.7097 - acc: 0.5000\n",
      "Epoch 2/15\n",
      "4/4 [==============================] - 3s 869ms/step - loss: 0.6963 - acc: 0.5000\n",
      "Epoch 3/15\n",
      "4/4 [==============================] - 4s 1s/step - loss: 0.6955 - acc: 0.4975\n",
      "Epoch 4/15\n",
      "4/4 [==============================] - 3s 800ms/step - loss: 0.6943 - acc: 0.4975\n",
      "Epoch 5/15\n",
      "4/4 [==============================] - 4s 1s/step - loss: 0.6949 - acc: 0.4875\n",
      "Epoch 6/15\n",
      "4/4 [==============================] - 3s 699ms/step - loss: 0.6923 - acc: 0.5225\n",
      "Epoch 7/15\n",
      "4/4 [==============================] - 4s 887ms/step - loss: 0.6904 - acc: 0.5100\n",
      "Epoch 8/15\n",
      "4/4 [==============================] - 3s 832ms/step - loss: 0.6907 - acc: 0.5200\n",
      "Epoch 9/15\n",
      "4/4 [==============================] - 4s 908ms/step - loss: 0.6907 - acc: 0.5350\n",
      "Epoch 10/15\n",
      "4/4 [==============================] - 3s 864ms/step - loss: 0.6944 - acc: 0.5425\n",
      "Epoch 11/15\n",
      "4/4 [==============================] - 3s 832ms/step - loss: 0.7019 - acc: 0.5000\n",
      "Epoch 12/15\n",
      "4/4 [==============================] - 3s 783ms/step - loss: 0.6907 - acc: 0.5000\n",
      "Epoch 13/15\n",
      "4/4 [==============================] - 3s 832ms/step - loss: 0.6928 - acc: 0.4875\n",
      "Epoch 14/15\n",
      "4/4 [==============================] - 4s 1s/step - loss: 0.6912 - acc: 0.5400\n",
      "Epoch 15/15\n",
      "4/4 [==============================] - 3s 726ms/step - loss: 0.6892 - acc: 0.5475\n"
     ]
    }
   ],
   "source": [
    "model_history = model.fit_generator(train_gen, epochs=15, callbacks=[tb])"
   ]
  },
  {
   "cell_type": "code",
   "execution_count": 42,
   "metadata": {},
   "outputs": [
    {
     "name": "stdout",
     "output_type": "stream",
     "text": [
      "Model: \"sequential_3\"\n",
      "_________________________________________________________________\n",
      "Layer (type)                 Output Shape              Param #   \n",
      "=================================================================\n",
      "conv2d_9 (Conv2D)            (None, 148, 148, 32)      896       \n",
      "_________________________________________________________________\n",
      "max_pooling2d_9 (MaxPooling2 (None, 74, 74, 32)        0         \n",
      "_________________________________________________________________\n",
      "conv2d_10 (Conv2D)           (None, 72, 72, 32)        9248      \n",
      "_________________________________________________________________\n",
      "max_pooling2d_10 (MaxPooling (None, 36, 36, 32)        0         \n",
      "_________________________________________________________________\n",
      "conv2d_11 (Conv2D)           (None, 34, 34, 64)        18496     \n",
      "_________________________________________________________________\n",
      "max_pooling2d_11 (MaxPooling (None, 17, 17, 64)        0         \n",
      "_________________________________________________________________\n",
      "flatten_3 (Flatten)          (None, 18496)             0         \n",
      "_________________________________________________________________\n",
      "dense_9 (Dense)              (None, 1024)              18940928  \n",
      "_________________________________________________________________\n",
      "dense_10 (Dense)             (None, 512)               524800    \n",
      "_________________________________________________________________\n",
      "dense_11 (Dense)             (None, 2)                 1026      \n",
      "=================================================================\n",
      "Total params: 19,495,394\n",
      "Trainable params: 19,495,394\n",
      "Non-trainable params: 0\n",
      "_________________________________________________________________\n"
     ]
    }
   ],
   "source": [
    "model.summary()"
   ]
  },
  {
   "cell_type": "code",
   "execution_count": null,
   "metadata": {},
   "outputs": [],
   "source": []
  },
  {
   "cell_type": "code",
   "execution_count": null,
   "metadata": {},
   "outputs": [],
   "source": []
  }
 ],
 "metadata": {
  "kernelspec": {
   "display_name": "Python [conda env:SiyavarEnv] *",
   "language": "python",
   "name": "conda-env-SiyavarEnv-py"
  },
  "language_info": {
   "codemirror_mode": {
    "name": "ipython",
    "version": 3
   },
   "file_extension": ".py",
   "mimetype": "text/x-python",
   "name": "python",
   "nbconvert_exporter": "python",
   "pygments_lexer": "ipython3",
   "version": "3.8.5"
  }
 },
 "nbformat": 4,
 "nbformat_minor": 4
}
